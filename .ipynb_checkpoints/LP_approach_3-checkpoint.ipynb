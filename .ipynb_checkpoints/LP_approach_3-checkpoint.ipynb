{
 "cells": [
  {
   "cell_type": "code",
   "execution_count": 44,
   "metadata": {
    "collapsed": false
   },
   "outputs": [],
   "source": [
    "# pulp \n",
    "# listを使っているので非常に遅い\n",
    "% matplotlib inline\n",
    "import matplotlib.pyplot as plt\n",
    "import pulp\n",
    "import quantecon as qe\n",
    "import numpy as np\n",
    "import time\n",
    "from gurobipy import *\n",
    "\n",
    "class SimpleOG(object):\n",
    "\n",
    "    def __init__(self, B=10, M=5, alpha=0.5, beta=0.9):\n",
    "\n",
    "        self.B, self.M, self.alpha, self.beta  = B, M, alpha, beta\n",
    "        self.n = B + M + 1\n",
    "        self.m = M + 1\n",
    "\n",
    "        self.R = np.empty((self.n, self.m))\n",
    "        self.Q = np.zeros((self.n, self.m, self.n))\n",
    "\n",
    "        self.populate_Q()\n",
    "        self.populate_R()\n",
    "\n",
    "    def u(self, c):\n",
    "        return c**self.alpha\n",
    "\n",
    "    def populate_R(self):\n",
    "\n",
    "        for s in range(self.n):\n",
    "            for a in range(self.m):\n",
    "                self.R[s, a] = self.u(s - a) if a <= s else -np.inf\n",
    "\n",
    "    def populate_Q(self):\n",
    "\n",
    "        for a in range(self.m):\n",
    "            self.Q[:, a, a:(a + self.B + 1)] = 1.0 / (self.B + 1)\n",
    "\n",
    "\n",
    "def LP_approach(setting):\n",
    "    num_state = range(1, setting.num_states + 1)\n",
    "    num_action = range(1, setting.num_actions + 1)\n",
    "    LP = pulp.LpProblem('LP_Approach', pulp.LpMinimize)\n",
    "\n",
    "    value_functions = pulp.LpVariable.dicts('value', num_state, 0, 50000, 'Continuous')\n",
    "    \n",
    "    # set constraints\n",
    "    dimention = setting.num_states * setting.num_actions\n",
    "    c_s = [None] * dimention\n",
    "    count = 0\n",
    "    for i in num_state:\n",
    "        for j in num_action:\n",
    "            c = value_functions[i] - setting.beta * (pulp.lpSum(setting.Q[i-1, j-1, k-1] * value_functions[k] for k in num_state)) >= setting.R[i-1,j-1]\n",
    "            LP += c\n",
    "            c_s[count] = c\n",
    "            count += 1\n",
    "    \n",
    "    # set objective\n",
    "    LP += pulp.lpSum(value_functions[i] for i in num_state)\n",
    "    \n",
    "    # solve\n",
    "    LP.solve(pulp.GUROBI(msg = False))\n",
    "    \n",
    "    # sigma\n",
    "    # if multiple actions are gotten, choose one with larger index\n",
    "    f = lambda x: x.pi\n",
    "    pi_list = [f(i) for i in c_s]\n",
    "    pi_statedivision = zip(* [iter(pi_list)]* setting.num_actions)\n",
    "    pi_state_list = [list(i) for i in pi_statedivision]\n",
    "    sigma = [None] * setting.num_states\n",
    "    for i, actions in enumerate(pi_state_list):\n",
    "        for j, value in enumerate(actions):\n",
    "            if value > 0:\n",
    "                sigma[i] = j\n",
    "    \n",
    "    \n",
    "    # values\n",
    "    v = np.empty(setting.num_states)\n",
    "    for i, value in enumerate(value_functions.values()):\n",
    "        v[i] = value.value()\n",
    "    \n",
    "    res = qe.markov.ddp.DPSolveResult(v=v, sigma = sigma,\n",
    "                            method='Exact Linear Programming',\n",
    "                            )\n",
    "    return res\n",
    "    \n",
    "def elapse_LP(setting):\n",
    "    start = time.time()\n",
    "    LP_approach(setting)\n",
    "    return time.time() - start\n",
    "\n",
    "def elapse_value(setting):\n",
    "    start = time.time()\n",
    "    setting.solve(method='value_iteration')\n",
    "    elapsed_time = time.time() - start\n",
    "    return elapsed_time\n",
    "\n",
    "def plot_graph(n, discount):\n",
    "    a = [None] * (n-9)\n",
    "    b = [None] * (n-9)\n",
    "    for i in range(10, n+1):\n",
    "        h = SimpleOG(M = i, beta = discount)\n",
    "        d = qe.markov.DiscreteDP(h.R, h.Q, h.beta)\n",
    "        a[i - 10] = elapse_LP(d)\n",
    "        b[i - 10] = elapse_value(d)\n",
    "\n",
    "    plt.plot(a)\n",
    "    plt.plot(b)"
   ]
  },
  {
   "cell_type": "code",
   "execution_count": 41,
   "metadata": {
    "collapsed": false
   },
   "outputs": [
    {
     "data": {
      "text/plain": [
       "  sigma: [0, 0, 0, 0, 1, 1, 1, 2, 2, 3, 3, 4, 5, 5, 5, 5]\n",
       " method: 'Exact Linear Programming'\n",
       "      v: array([ 19.01740222,  20.01740222,  20.43161578,  20.74945302,\n",
       "        21.04078099,  21.30873018,  21.54479816,  21.76928181,\n",
       "        21.98270358,  22.18824323,  22.3845048 ,  22.57807736,\n",
       "        22.76109127,  22.94376708,  23.11533996,  23.27761762])"
      ]
     },
     "execution_count": 41,
     "metadata": {},
     "output_type": "execute_result"
    }
   ],
   "source": [
    "#実際に解く\n",
    "#以下の正解と合致している\n",
    "h = SimpleOG()\n",
    "d = qe.markov.DiscreteDP(h.R, h.Q, h.beta)\n",
    "res = LP_approach(d)\n",
    "res"
   ]
  },
  {
   "cell_type": "code",
   "execution_count": 42,
   "metadata": {
    "collapsed": false
   },
   "outputs": [
    {
     "data": {
      "text/plain": [
       "       mc: Markov chain with transition matrix \n",
       "P = \n",
       "[[ 0.09090909  0.09090909  0.09090909  0.09090909  0.09090909  0.09090909\n",
       "   0.09090909  0.09090909  0.09090909  0.09090909  0.09090909  0.          0.\n",
       "   0.          0.          0.        ]\n",
       " [ 0.09090909  0.09090909  0.09090909  0.09090909  0.09090909  0.09090909\n",
       "   0.09090909  0.09090909  0.09090909  0.09090909  0.09090909  0.          0.\n",
       "   0.          0.          0.        ]\n",
       " [ 0.09090909  0.09090909  0.09090909  0.09090909  0.09090909  0.09090909\n",
       "   0.09090909  0.09090909  0.09090909  0.09090909  0.09090909  0.          0.\n",
       "   0.          0.          0.        ]\n",
       " [ 0.09090909  0.09090909  0.09090909  0.09090909  0.09090909  0.09090909\n",
       "   0.09090909  0.09090909  0.09090909  0.09090909  0.09090909  0.          0.\n",
       "   0.          0.          0.        ]\n",
       " [ 0.          0.09090909  0.09090909  0.09090909  0.09090909  0.09090909\n",
       "   0.09090909  0.09090909  0.09090909  0.09090909  0.09090909  0.09090909\n",
       "   0.          0.          0.          0.        ]\n",
       " [ 0.          0.09090909  0.09090909  0.09090909  0.09090909  0.09090909\n",
       "   0.09090909  0.09090909  0.09090909  0.09090909  0.09090909  0.09090909\n",
       "   0.          0.          0.          0.        ]\n",
       " [ 0.          0.09090909  0.09090909  0.09090909  0.09090909  0.09090909\n",
       "   0.09090909  0.09090909  0.09090909  0.09090909  0.09090909  0.09090909\n",
       "   0.          0.          0.          0.        ]\n",
       " [ 0.          0.          0.09090909  0.09090909  0.09090909  0.09090909\n",
       "   0.09090909  0.09090909  0.09090909  0.09090909  0.09090909  0.09090909\n",
       "   0.09090909  0.          0.          0.        ]\n",
       " [ 0.          0.          0.09090909  0.09090909  0.09090909  0.09090909\n",
       "   0.09090909  0.09090909  0.09090909  0.09090909  0.09090909  0.09090909\n",
       "   0.09090909  0.          0.          0.        ]\n",
       " [ 0.          0.          0.          0.09090909  0.09090909  0.09090909\n",
       "   0.09090909  0.09090909  0.09090909  0.09090909  0.09090909  0.09090909\n",
       "   0.09090909  0.09090909  0.          0.        ]\n",
       " [ 0.          0.          0.          0.09090909  0.09090909  0.09090909\n",
       "   0.09090909  0.09090909  0.09090909  0.09090909  0.09090909  0.09090909\n",
       "   0.09090909  0.09090909  0.          0.        ]\n",
       " [ 0.          0.          0.          0.          0.09090909  0.09090909\n",
       "   0.09090909  0.09090909  0.09090909  0.09090909  0.09090909  0.09090909\n",
       "   0.09090909  0.09090909  0.09090909  0.        ]\n",
       " [ 0.          0.          0.          0.          0.          0.09090909\n",
       "   0.09090909  0.09090909  0.09090909  0.09090909  0.09090909  0.09090909\n",
       "   0.09090909  0.09090909  0.09090909  0.09090909]\n",
       " [ 0.          0.          0.          0.          0.          0.09090909\n",
       "   0.09090909  0.09090909  0.09090909  0.09090909  0.09090909  0.09090909\n",
       "   0.09090909  0.09090909  0.09090909  0.09090909]\n",
       " [ 0.          0.          0.          0.          0.          0.09090909\n",
       "   0.09090909  0.09090909  0.09090909  0.09090909  0.09090909  0.09090909\n",
       "   0.09090909  0.09090909  0.09090909  0.09090909]\n",
       " [ 0.          0.          0.          0.          0.          0.09090909\n",
       "   0.09090909  0.09090909  0.09090909  0.09090909  0.09090909  0.09090909\n",
       "   0.09090909  0.09090909  0.09090909  0.09090909]]\n",
       "        v: array([ 19.01740222,  20.01740222,  20.43161578,  20.74945302,\n",
       "        21.04078099,  21.30873018,  21.54479816,  21.76928181,\n",
       "        21.98270358,  22.18824323,  22.3845048 ,  22.57807736,\n",
       "        22.76109127,  22.94376708,  23.11533996,  23.27761762])\n",
       " max_iter: 250\n",
       "    sigma: array([0, 0, 0, 0, 1, 1, 1, 2, 2, 3, 3, 4, 5, 5, 5, 5])\n",
       " num_iter: 3\n",
       "   method: 'policy iteration'"
      ]
     },
     "execution_count": 42,
     "metadata": {},
     "output_type": "execute_result"
    }
   ],
   "source": [
    "# 正解\n",
    "d.solve()"
   ]
  },
  {
   "cell_type": "code",
   "execution_count": 45,
   "metadata": {
    "collapsed": false
   },
   "outputs": [
    {
     "data": {
      "image/png": "[encoded data removed]",
      "text/plain": [
       "<matplotlib.figure.Figure at 0x10d718350>"
      ]
     },
     "metadata": {},
     "output_type": "display_data"
    }
   ],
   "source": [
    "# 縦軸は秒\n",
    "# 青がLPで緑がvalue\n",
    "# LPめっちゃ遅い…\n",
    "plot_graph(50, 0.98)"
   ]
  },
  {
   "cell_type": "code",
   "execution_count": 16,
   "metadata": {
    "collapsed": false
   },
   "outputs": [
    {
     "name": "stdout",
     "output_type": "stream",
     "text": [
      "sample:\n",
      "MINIMIZE\n",
      "1*a + 1*b + 0\n",
      "SUBJECT TO\n",
      "_C1: a >= 0\n",
      "\n",
      "_C2: b >= 0.1\n",
      "\n",
      "_C3: a + b = 0.5\n",
      "\n",
      "VARIABLES\n",
      "a <= 1 Continuous\n",
      "b <= 1 Continuous\n",
      "\n",
      "Result\n",
      "a 0.4\n",
      "b 0.1\n",
      "[0.0, 0.0, 1.0]\n"
     ]
    }
   ],
   "source": [
    "#制約はリストにできるのか\n",
    "#できる\n",
    "import pulp\n",
    "\n",
    "problem = pulp.LpProblem('sample', pulp.LpMinimize)\n",
    "\n",
    "a = pulp.LpVariable('a', 0, 1)\n",
    "b = pulp.LpVariable('b', 0, 1)\n",
    "\n",
    "problem += a + b\n",
    "\n",
    "c_1 = a >= 0\n",
    "c_2 = b >= 0.1\n",
    "c_3 = a + b == 0.5\n",
    "\n",
    "c_s = [c_1, c_2, c_3]\n",
    "\n",
    "for i in c_s:\n",
    "    problem += i\n",
    "\n",
    "problem.solve()\n",
    "\n",
    "print problem\n",
    "\n",
    "print \"Result\"\n",
    "print \"a\", a.value()\n",
    "print \"b\", b.value()\n",
    "print [lagrange.pi for lagrange in c_s]"
   ]
  },
  {
   "cell_type": "code",
   "execution_count": 17,
   "metadata": {
    "collapsed": false
   },
   "outputs": [
    {
     "data": {
      "text/plain": [
       "1*a + 0 >= 0"
      ]
     },
     "execution_count": 17,
     "metadata": {},
     "output_type": "execute_result"
    }
   ],
   "source": [
    "c_1"
   ]
  },
  {
   "cell_type": "code",
   "execution_count": 15,
   "metadata": {
    "collapsed": false
   },
   "outputs": [
    {
     "ename": "TypeError",
     "evalue": "float() argument must be a string or a number",
     "output_type": "error",
     "traceback": [
      "\u001b[0;31m---------------------------------------------------------------------------\u001b[0m",
      "\u001b[0;31mTypeError\u001b[0m                                 Traceback (most recent call last)",
      "\u001b[0;32m<ipython-input-15-ebb3ee7d6b11>\u001b[0m in \u001b[0;36m<module>\u001b[0;34m()\u001b[0m\n\u001b[1;32m     15\u001b[0m \u001b[0;34m\u001b[0m\u001b[0m\n\u001b[1;32m     16\u001b[0m \u001b[0mc_s\u001b[0m \u001b[0;34m=\u001b[0m \u001b[0mnp\u001b[0m\u001b[0;34m.\u001b[0m\u001b[0mempty\u001b[0m\u001b[0;34m(\u001b[0m\u001b[0;36m3\u001b[0m\u001b[0;34m)\u001b[0m\u001b[0;34m\u001b[0m\u001b[0m\n\u001b[0;32m---> 17\u001b[0;31m \u001b[0mc_s\u001b[0m\u001b[0;34m[\u001b[0m\u001b[0;36m0\u001b[0m\u001b[0;34m]\u001b[0m \u001b[0;34m=\u001b[0m \u001b[0mc_1\u001b[0m\u001b[0;34m\u001b[0m\u001b[0m\n\u001b[0m\u001b[1;32m     18\u001b[0m \u001b[0mc_s\u001b[0m\u001b[0;34m[\u001b[0m\u001b[0;36m1\u001b[0m\u001b[0;34m]\u001b[0m \u001b[0;34m=\u001b[0m \u001b[0mc_2\u001b[0m\u001b[0;34m\u001b[0m\u001b[0m\n\u001b[1;32m     19\u001b[0m \u001b[0mc_s\u001b[0m\u001b[0;34m[\u001b[0m\u001b[0;36m2\u001b[0m\u001b[0;34m]\u001b[0m \u001b[0;34m=\u001b[0m \u001b[0mc_3\u001b[0m\u001b[0;34m\u001b[0m\u001b[0m\n",
      "\u001b[0;31mTypeError\u001b[0m: float() argument must be a string or a number"
     ]
    }
   ],
   "source": [
    "#制約はnumpy arrayにできるのか\n",
    "# できなさそう\n",
    "import pulp\n",
    "import numpy as np\n",
    "\n",
    "problem = pulp.LpProblem('sample', pulp.LpMinimize)\n",
    "\n",
    "a = pulp.LpVariable('a', 0, 1)\n",
    "b = pulp.LpVariable('b', 0, 1)\n",
    "\n",
    "problem += a + b\n",
    "\n",
    "c_1 = a >= 0\n",
    "c_2 = b >= 0.1\n",
    "c_3 = a + b == 0.5\n",
    "\n",
    "c_s = np.empty(3)\n",
    "c_s[0] = c_1\n",
    "c_s[1] = c_2\n",
    "c_s[2] = c_3\n",
    "\n",
    "for i in c_s:\n",
    "    problem += i\n",
    "\n",
    "problem.solve()\n",
    "\n",
    "print problem\n",
    "\n",
    "print \"Result\"\n",
    "print \"a\", a.value()\n",
    "print \"b\", b.value()\n",
    "print [lagrange.pi for lagrange in c_s]"
   ]
  },
  {
   "cell_type": "code",
   "execution_count": 18,
   "metadata": {
    "collapsed": true
   },
   "outputs": [],
   "source": [
    "a = (1,2)"
   ]
  },
  {
   "cell_type": "code",
   "execution_count": 19,
   "metadata": {
    "collapsed": false
   },
   "outputs": [
    {
     "data": {
      "text/plain": [
       "1"
      ]
     },
     "execution_count": 19,
     "metadata": {},
     "output_type": "execute_result"
    }
   ],
   "source": [
    "a[0]"
   ]
  },
  {
   "cell_type": "code",
   "execution_count": 21,
   "metadata": {
    "collapsed": false
   },
   "outputs": [
    {
     "data": {
      "text/plain": [
       "2"
      ]
     },
     "execution_count": 21,
     "metadata": {},
     "output_type": "execute_result"
    }
   ],
   "source": [
    "max(a)"
   ]
  },
  {
   "cell_type": "markdown",
   "metadata": {},
   "source": [
    "argmax(a)"
   ]
  },
  {
   "cell_type": "code",
   "execution_count": 22,
   "metadata": {
    "collapsed": false
   },
   "outputs": [
    {
     "ename": "NameError",
     "evalue": "name 'argmax' is not defined",
     "output_type": "error",
     "traceback": [
      "\u001b[0;31m---------------------------------------------------------------------------\u001b[0m",
      "\u001b[0;31mNameError\u001b[0m                                 Traceback (most recent call last)",
      "\u001b[0;32m<ipython-input-22-19ee4e0cbf20>\u001b[0m in \u001b[0;36m<module>\u001b[0;34m()\u001b[0m\n\u001b[0;32m----> 1\u001b[0;31m \u001b[0margmax\u001b[0m\u001b[0;34m(\u001b[0m\u001b[0ma\u001b[0m\u001b[0;34m)\u001b[0m\u001b[0;34m\u001b[0m\u001b[0m\n\u001b[0m",
      "\u001b[0;31mNameError\u001b[0m: name 'argmax' is not defined"
     ]
    }
   ],
   "source": [
    "argmax(a)"
   ]
  },
  {
   "cell_type": "code",
   "execution_count": 24,
   "metadata": {
    "collapsed": false
   },
   "outputs": [
    {
     "ename": "NameError",
     "evalue": "name 'argmax' is not defined",
     "output_type": "error",
     "traceback": [
      "\u001b[0;31m---------------------------------------------------------------------------\u001b[0m",
      "\u001b[0;31mNameError\u001b[0m                                 Traceback (most recent call last)",
      "\u001b[0;32m<ipython-input-24-4c8bc5bd90bc>\u001b[0m in \u001b[0;36m<module>\u001b[0;34m()\u001b[0m\n\u001b[1;32m      1\u001b[0m \u001b[0mb\u001b[0m \u001b[0;34m=\u001b[0m \u001b[0;34m[\u001b[0m\u001b[0;36m0\u001b[0m\u001b[0;34m,\u001b[0m\u001b[0;36m3\u001b[0m\u001b[0;34m,\u001b[0m\u001b[0;36m1\u001b[0m\u001b[0;34m]\u001b[0m\u001b[0;34m\u001b[0m\u001b[0m\n\u001b[0;32m----> 2\u001b[0;31m \u001b[0margmax\u001b[0m\u001b[0;34m(\u001b[0m\u001b[0mb\u001b[0m\u001b[0;34m)\u001b[0m\u001b[0;34m\u001b[0m\u001b[0m\n\u001b[0m",
      "\u001b[0;31mNameError\u001b[0m: name 'argmax' is not defined"
     ]
    }
   ],
   "source": [
    "b = [0,3,1]\n",
    "argmax(b)"
   ]
  },
  {
   "cell_type": "code",
   "execution_count": 28,
   "metadata": {
    "collapsed": false
   },
   "outputs": [
    {
     "data": {
      "text/plain": [
       "[1, 2]"
      ]
     },
     "execution_count": 28,
     "metadata": {},
     "output_type": "execute_result"
    }
   ],
   "source": [
    "list(a)"
   ]
  },
  {
   "cell_type": "code",
   "execution_count": null,
   "metadata": {
    "collapsed": true
   },
   "outputs": [],
   "source": []
  }
 ],
 "metadata": {
  "kernelspec": {
   "display_name": "Python 2",
   "language": "python",
   "name": "python2"
  },
  "language_info": {
   "codemirror_mode": {
    "name": "ipython",
    "version": 2
   },
   "file_extension": ".py",
   "mimetype": "text/x-python",
   "name": "python",
   "nbconvert_exporter": "python",
   "pygments_lexer": "ipython2",
   "version": "2.7.9"
  }
 },
 "nbformat": 4,
 "nbformat_minor": 0
}
