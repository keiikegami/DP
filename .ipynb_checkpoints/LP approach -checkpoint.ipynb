{
 "cells": [
  {
   "cell_type": "code",
   "execution_count": 1,
   "metadata": {
    "collapsed": false
   },
   "outputs": [],
   "source": [
    "import quantecon as qe\n",
    "import numpy as np\n",
    "import gurobipy as gp\n",
    "from gurobipy import *"
   ]
  },
  {
   "cell_type": "code",
   "execution_count": 2,
   "metadata": {
    "collapsed": true
   },
   "outputs": [],
   "source": [
    "class SimpleOG(object):\n",
    "\n",
    "    def __init__(self, B=10, M=5, alpha=0.5, beta=0.9):\n",
    "\n",
    "        self.B, self.M, self.alpha, self.beta  = B, M, alpha, beta\n",
    "        self.n = B + M + 1\n",
    "        self.m = M + 1\n",
    "\n",
    "        self.R = np.empty((self.n, self.m))\n",
    "        self.Q = np.zeros((self.n, self.m, self.n))\n",
    "\n",
    "        self.populate_Q()\n",
    "        self.populate_R()\n",
    "\n",
    "    def u(self, c):\n",
    "        return c**self.alpha\n",
    "\n",
    "    def populate_R(self):\n",
    "\n",
    "        for s in range(self.n):\n",
    "            for a in range(self.m):\n",
    "                self.R[s, a] = self.u(s - a) if a <= s else -np.inf\n",
    "\n",
    "    def populate_Q(self):\n",
    "\n",
    "        for a in range(self.m):\n",
    "            self.Q[:, a, a:(a + self.B + 1)] = 1.0 / (self.B + 1)"
   ]
  },
  {
   "cell_type": "code",
   "execution_count": 3,
   "metadata": {
    "collapsed": true
   },
   "outputs": [],
   "source": [
    "g = SimpleOG()"
   ]
  },
  {
   "cell_type": "code",
   "execution_count": 5,
   "metadata": {
    "collapsed": true
   },
   "outputs": [],
   "source": [
    "# n = 16\n",
    "# m = 6\n",
    "ddp = qe.markov.DiscreteDP(g.R, g.Q, g.beta)"
   ]
  },
  {
   "cell_type": "code",
   "execution_count": 9,
   "metadata": {
    "collapsed": false
   },
   "outputs": [
    {
     "data": {
      "text/plain": [
       "array([[ 0.        ,        -inf,        -inf,        -inf,        -inf,\n",
       "               -inf],\n",
       "       [ 1.        ,  0.        ,        -inf,        -inf,        -inf,\n",
       "               -inf],\n",
       "       [ 1.41421356,  1.        ,  0.        ,        -inf,        -inf,\n",
       "               -inf],\n",
       "       [ 1.73205081,  1.41421356,  1.        ,  0.        ,        -inf,\n",
       "               -inf],\n",
       "       [ 2.        ,  1.73205081,  1.41421356,  1.        ,  0.        ,\n",
       "               -inf],\n",
       "       [ 2.23606798,  2.        ,  1.73205081,  1.41421356,  1.        ,\n",
       "         0.        ],\n",
       "       [ 2.44948974,  2.23606798,  2.        ,  1.73205081,  1.41421356,\n",
       "         1.        ],\n",
       "       [ 2.64575131,  2.44948974,  2.23606798,  2.        ,  1.73205081,\n",
       "         1.41421356],\n",
       "       [ 2.82842712,  2.64575131,  2.44948974,  2.23606798,  2.        ,\n",
       "         1.73205081],\n",
       "       [ 3.        ,  2.82842712,  2.64575131,  2.44948974,  2.23606798,\n",
       "         2.        ],\n",
       "       [ 3.16227766,  3.        ,  2.82842712,  2.64575131,  2.44948974,\n",
       "         2.23606798],\n",
       "       [ 3.31662479,  3.16227766,  3.        ,  2.82842712,  2.64575131,\n",
       "         2.44948974],\n",
       "       [ 3.46410162,  3.31662479,  3.16227766,  3.        ,  2.82842712,\n",
       "         2.64575131],\n",
       "       [ 3.60555128,  3.46410162,  3.31662479,  3.16227766,  3.        ,\n",
       "         2.82842712],\n",
       "       [ 3.74165739,  3.60555128,  3.46410162,  3.31662479,  3.16227766,\n",
       "         3.        ],\n",
       "       [ 3.87298335,  3.74165739,  3.60555128,  3.46410162,  3.31662479,\n",
       "         3.16227766]])"
      ]
     },
     "execution_count": 9,
     "metadata": {},
     "output_type": "execute_result"
    }
   ],
   "source": [
    "# reward array\n",
    "ddp.R"
   ]
  },
  {
   "cell_type": "code",
   "execution_count": 10,
   "metadata": {
    "collapsed": false
   },
   "outputs": [
    {
     "data": {
      "text/plain": [
       "array([[[ 0.09090909,  0.09090909,  0.09090909, ...,  0.        ,\n",
       "          0.        ,  0.        ],\n",
       "        [ 0.        ,  0.09090909,  0.09090909, ...,  0.        ,\n",
       "          0.        ,  0.        ],\n",
       "        [ 0.        ,  0.        ,  0.09090909, ...,  0.        ,\n",
       "          0.        ,  0.        ],\n",
       "        [ 0.        ,  0.        ,  0.        , ...,  0.09090909,\n",
       "          0.        ,  0.        ],\n",
       "        [ 0.        ,  0.        ,  0.        , ...,  0.09090909,\n",
       "          0.09090909,  0.        ],\n",
       "        [ 0.        ,  0.        ,  0.        , ...,  0.09090909,\n",
       "          0.09090909,  0.09090909]],\n",
       "\n",
       "       [[ 0.09090909,  0.09090909,  0.09090909, ...,  0.        ,\n",
       "          0.        ,  0.        ],\n",
       "        [ 0.        ,  0.09090909,  0.09090909, ...,  0.        ,\n",
       "          0.        ,  0.        ],\n",
       "        [ 0.        ,  0.        ,  0.09090909, ...,  0.        ,\n",
       "          0.        ,  0.        ],\n",
       "        [ 0.        ,  0.        ,  0.        , ...,  0.09090909,\n",
       "          0.        ,  0.        ],\n",
       "        [ 0.        ,  0.        ,  0.        , ...,  0.09090909,\n",
       "          0.09090909,  0.        ],\n",
       "        [ 0.        ,  0.        ,  0.        , ...,  0.09090909,\n",
       "          0.09090909,  0.09090909]],\n",
       "\n",
       "       [[ 0.09090909,  0.09090909,  0.09090909, ...,  0.        ,\n",
       "          0.        ,  0.        ],\n",
       "        [ 0.        ,  0.09090909,  0.09090909, ...,  0.        ,\n",
       "          0.        ,  0.        ],\n",
       "        [ 0.        ,  0.        ,  0.09090909, ...,  0.        ,\n",
       "          0.        ,  0.        ],\n",
       "        [ 0.        ,  0.        ,  0.        , ...,  0.09090909,\n",
       "          0.        ,  0.        ],\n",
       "        [ 0.        ,  0.        ,  0.        , ...,  0.09090909,\n",
       "          0.09090909,  0.        ],\n",
       "        [ 0.        ,  0.        ,  0.        , ...,  0.09090909,\n",
       "          0.09090909,  0.09090909]],\n",
       "\n",
       "       ..., \n",
       "       [[ 0.09090909,  0.09090909,  0.09090909, ...,  0.        ,\n",
       "          0.        ,  0.        ],\n",
       "        [ 0.        ,  0.09090909,  0.09090909, ...,  0.        ,\n",
       "          0.        ,  0.        ],\n",
       "        [ 0.        ,  0.        ,  0.09090909, ...,  0.        ,\n",
       "          0.        ,  0.        ],\n",
       "        [ 0.        ,  0.        ,  0.        , ...,  0.09090909,\n",
       "          0.        ,  0.        ],\n",
       "        [ 0.        ,  0.        ,  0.        , ...,  0.09090909,\n",
       "          0.09090909,  0.        ],\n",
       "        [ 0.        ,  0.        ,  0.        , ...,  0.09090909,\n",
       "          0.09090909,  0.09090909]],\n",
       "\n",
       "       [[ 0.09090909,  0.09090909,  0.09090909, ...,  0.        ,\n",
       "          0.        ,  0.        ],\n",
       "        [ 0.        ,  0.09090909,  0.09090909, ...,  0.        ,\n",
       "          0.        ,  0.        ],\n",
       "        [ 0.        ,  0.        ,  0.09090909, ...,  0.        ,\n",
       "          0.        ,  0.        ],\n",
       "        [ 0.        ,  0.        ,  0.        , ...,  0.09090909,\n",
       "          0.        ,  0.        ],\n",
       "        [ 0.        ,  0.        ,  0.        , ...,  0.09090909,\n",
       "          0.09090909,  0.        ],\n",
       "        [ 0.        ,  0.        ,  0.        , ...,  0.09090909,\n",
       "          0.09090909,  0.09090909]],\n",
       "\n",
       "       [[ 0.09090909,  0.09090909,  0.09090909, ...,  0.        ,\n",
       "          0.        ,  0.        ],\n",
       "        [ 0.        ,  0.09090909,  0.09090909, ...,  0.        ,\n",
       "          0.        ,  0.        ],\n",
       "        [ 0.        ,  0.        ,  0.09090909, ...,  0.        ,\n",
       "          0.        ,  0.        ],\n",
       "        [ 0.        ,  0.        ,  0.        , ...,  0.09090909,\n",
       "          0.        ,  0.        ],\n",
       "        [ 0.        ,  0.        ,  0.        , ...,  0.09090909,\n",
       "          0.09090909,  0.        ],\n",
       "        [ 0.        ,  0.        ,  0.        , ...,  0.09090909,\n",
       "          0.09090909,  0.09090909]]])"
      ]
     },
     "execution_count": 10,
     "metadata": {},
     "output_type": "execute_result"
    }
   ],
   "source": [
    "# transition probability array\n",
    "ddp.Q"
   ]
  },
  {
   "cell_type": "code",
   "execution_count": 11,
   "metadata": {
    "collapsed": false
   },
   "outputs": [
    {
     "data": {
      "text/plain": [
       "0.9"
      ]
     },
     "execution_count": 11,
     "metadata": {},
     "output_type": "execute_result"
    }
   ],
   "source": [
    "# discount factor\n",
    "ddp.beta"
   ]
  },
  {
   "cell_type": "code",
   "execution_count": 12,
   "metadata": {
    "collapsed": false
   },
   "outputs": [
    {
     "data": {
      "text/plain": [
       "16"
      ]
     },
     "execution_count": 12,
     "metadata": {},
     "output_type": "execute_result"
    }
   ],
   "source": [
    "# number of states\n",
    "ddp.num_states"
   ]
  },
  {
   "cell_type": "code",
   "execution_count": 13,
   "metadata": {
    "collapsed": false
   },
   "outputs": [
    {
     "data": {
      "text/plain": [
       "6"
      ]
     },
     "execution_count": 13,
     "metadata": {},
     "output_type": "execute_result"
    }
   ],
   "source": [
    "# number of actions\n",
    "ddp.num_actions"
   ]
  },
  {
   "cell_type": "code",
   "execution_count": 14,
   "metadata": {
    "collapsed": false
   },
   "outputs": [
    {
     "data": {
      "text/plain": [
       "81"
      ]
     },
     "execution_count": 14,
     "metadata": {},
     "output_type": "execute_result"
    }
   ],
   "source": [
    "# number of pairs of actions and states\n",
    "ddp.num_sa_pairs"
   ]
  },
  {
   "cell_type": "code",
   "execution_count": 7,
   "metadata": {
    "collapsed": false
   },
   "outputs": [],
   "source": [
    "#exact LP\n",
    "#　変数の導入（ここではvalue function）\n",
    "num_state = range(1, ddp.num_states + 1)\n",
    "num_action = range(1, ddp.num_actions + 1)\n",
    "LP = gp.Model()\n",
    "\n",
    "x = {}\n",
    "for i in num_state:\n",
    "    x[i ] = LP.addVar(vtype = \"C\", name = \"x(%s)\" %(i))\n",
    "LP.update()"
   ]
  },
  {
   "cell_type": "code",
   "execution_count": 8,
   "metadata": {
    "collapsed": false
   },
   "outputs": [
    {
     "data": {
      "text/plain": [
       "{1: <gurobi.Var x(1)>,\n",
       " 2: <gurobi.Var x(2)>,\n",
       " 3: <gurobi.Var x(3)>,\n",
       " 4: <gurobi.Var x(4)>,\n",
       " 5: <gurobi.Var x(5)>,\n",
       " 6: <gurobi.Var x(6)>,\n",
       " 7: <gurobi.Var x(7)>,\n",
       " 8: <gurobi.Var x(8)>,\n",
       " 9: <gurobi.Var x(9)>,\n",
       " 10: <gurobi.Var x(10)>,\n",
       " 11: <gurobi.Var x(11)>,\n",
       " 12: <gurobi.Var x(12)>,\n",
       " 13: <gurobi.Var x(13)>,\n",
       " 14: <gurobi.Var x(14)>,\n",
       " 15: <gurobi.Var x(15)>,\n",
       " 16: <gurobi.Var x(16)>}"
      ]
     },
     "execution_count": 8,
     "metadata": {},
     "output_type": "execute_result"
    }
   ],
   "source": [
    "x"
   ]
  },
  {
   "cell_type": "code",
   "execution_count": 9,
   "metadata": {
    "collapsed": false
   },
   "outputs": [],
   "source": [
    "#　制約の追加\n",
    "for i in num_state:\n",
    "    for j in num_action:\n",
    "        LP.addConstr((x[i] - ddp.beta * quicksum(ddp.Q[i-1, j-1, k-1] * x[k] for k in num_state)) >= ddp.R[i-1,j-1])\n",
    "\n",
    "LP.update()"
   ]
  },
  {
   "cell_type": "code",
   "execution_count": 11,
   "metadata": {
    "collapsed": false
   },
   "outputs": [],
   "source": [
    "#　目的関数の設定\n",
    "LP.setObjective(quicksum(x[i] for i in num_state))\n",
    "LP.update()"
   ]
  },
  {
   "cell_type": "code",
   "execution_count": 13,
   "metadata": {
    "collapsed": false
   },
   "outputs": [
    {
     "name": "stdout",
     "output_type": "stream",
     "text": [
      "Optimize a model with 96 rows, 16 columns and 1086 nonzeros\n",
      "Coefficient statistics:\n",
      "  Matrix range    [8e-02, 1e+00]\n",
      "  Objective range [1e+00, 1e+00]\n",
      "  Bounds range    [0e+00, 0e+00]\n",
      "  RHS range       [1e+00, 1e+100]\n",
      "\n",
      "Solved in 31 iterations and 0.00 seconds\n",
      "Optimal objective  3.471108093e+02\n",
      "x(1) 19.017402217\n",
      "x(2) 20.017402217\n",
      "x(3) 20.4316157793\n",
      "x(4) 20.7494530245\n",
      "x(5) 21.0407809911\n",
      "x(6) 21.3087301835\n",
      "x(7) 21.544798161\n",
      "x(8) 21.7692818108\n",
      "x(9) 21.9827035761\n",
      "x(10) 22.1882432282\n",
      "x(11) 22.3845047965\n",
      "x(12) 22.5780773639\n",
      "x(13) 22.7610912698\n",
      "x(14) 22.9437670835\n",
      "x(15) 23.1153399587\n",
      "x(16) 23.2776176189\n"
     ]
    }
   ],
   "source": [
    "# 求解\n",
    "LP.ModelSense = 1\n",
    "LP.optimize()\n",
    "\n",
    "for v in LP.getVars():\n",
    "    print v.VarName ,v.X"
   ]
  },
  {
   "cell_type": "code",
   "execution_count": 44,
   "metadata": {
    "collapsed": true
   },
   "outputs": [],
   "source": [
    "# 真の値\n",
    "results = ddp.solve(method='policy_iteration')"
   ]
  },
  {
   "cell_type": "code",
   "execution_count": 45,
   "metadata": {
    "collapsed": false
   },
   "outputs": [
    {
     "data": {
      "text/plain": [
       "array([ 19.01740222,  20.01740222,  20.43161578,  20.74945302,\n",
       "        21.04078099,  21.30873018,  21.54479816,  21.76928181,\n",
       "        21.98270358,  22.18824323,  22.3845048 ,  22.57807736,\n",
       "        22.76109127,  22.94376708,  23.11533996,  23.27761762])"
      ]
     },
     "execution_count": 45,
     "metadata": {},
     "output_type": "execute_result"
    }
   ],
   "source": [
    "results.v"
   ]
  },
  {
   "cell_type": "code",
   "execution_count": null,
   "metadata": {
    "collapsed": true
   },
   "outputs": [],
   "source": []
  }
 ],
 "metadata": {
  "kernelspec": {
   "display_name": "Python 2",
   "language": "python",
   "name": "python2"
  },
  "language_info": {
   "codemirror_mode": {
    "name": "ipython",
    "version": 2
   },
   "file_extension": ".py",
   "mimetype": "text/x-python",
   "name": "python",
   "nbconvert_exporter": "python",
   "pygments_lexer": "ipython2",
   "version": "2.7.9"
  }
 },
 "nbformat": 4,
 "nbformat_minor": 0
}
