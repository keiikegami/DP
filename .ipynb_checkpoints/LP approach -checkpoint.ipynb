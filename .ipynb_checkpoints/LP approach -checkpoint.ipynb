{
 "cells": [
  {
   "cell_type": "code",
   "execution_count": 26,
   "metadata": {
    "collapsed": false
   },
   "outputs": [],
   "source": [
    "import quantecon as qe\n",
    "import numpy as np\n",
    "import gurobipy as gp\n",
    "from gurobipy import *"
   ]
  },
  {
   "cell_type": "code",
   "execution_count": 5,
   "metadata": {
    "collapsed": true
   },
   "outputs": [],
   "source": [
    "class SimpleOG(object):\n",
    "\n",
    "    def __init__(self, B=10, M=5, alpha=0.5, beta=0.9):\n",
    "\n",
    "        self.B, self.M, self.alpha, self.beta  = B, M, alpha, beta\n",
    "        self.n = B + M + 1\n",
    "        self.m = M + 1\n",
    "\n",
    "        self.R = np.empty((self.n, self.m))\n",
    "        self.Q = np.zeros((self.n, self.m, self.n))\n",
    "\n",
    "        self.populate_Q()\n",
    "        self.populate_R()\n",
    "\n",
    "    def u(self, c):\n",
    "        return c**self.alpha\n",
    "\n",
    "    def populate_R(self):\n",
    "\n",
    "        for s in range(self.n):\n",
    "            for a in range(self.m):\n",
    "                self.R[s, a] = self.u(s - a) if a <= s else -np.inf\n",
    "\n",
    "    def populate_Q(self):\n",
    "\n",
    "        for a in range(self.m):\n",
    "            self.Q[:, a, a:(a + self.B + 1)] = 1.0 / (self.B + 1)"
   ]
  },
  {
   "cell_type": "code",
   "execution_count": 6,
   "metadata": {
    "collapsed": true
   },
   "outputs": [],
   "source": [
    "g = SimpleOG()"
   ]
  },
  {
   "cell_type": "code",
   "execution_count": 7,
   "metadata": {
    "collapsed": true
   },
   "outputs": [],
   "source": [
    "# n = 16\n",
    "# m = 6\n",
    "ddp = qe.markov.DiscreteDP(g.R, g.Q, g.beta)"
   ]
  },
  {
   "cell_type": "code",
   "execution_count": 9,
   "metadata": {
    "collapsed": false
   },
   "outputs": [
    {
     "data": {
      "text/plain": [
       "array([[ 0.        ,        -inf,        -inf,        -inf,        -inf,\n",
       "               -inf],\n",
       "       [ 1.        ,  0.        ,        -inf,        -inf,        -inf,\n",
       "               -inf],\n",
       "       [ 1.41421356,  1.        ,  0.        ,        -inf,        -inf,\n",
       "               -inf],\n",
       "       [ 1.73205081,  1.41421356,  1.        ,  0.        ,        -inf,\n",
       "               -inf],\n",
       "       [ 2.        ,  1.73205081,  1.41421356,  1.        ,  0.        ,\n",
       "               -inf],\n",
       "       [ 2.23606798,  2.        ,  1.73205081,  1.41421356,  1.        ,\n",
       "         0.        ],\n",
       "       [ 2.44948974,  2.23606798,  2.        ,  1.73205081,  1.41421356,\n",
       "         1.        ],\n",
       "       [ 2.64575131,  2.44948974,  2.23606798,  2.        ,  1.73205081,\n",
       "         1.41421356],\n",
       "       [ 2.82842712,  2.64575131,  2.44948974,  2.23606798,  2.        ,\n",
       "         1.73205081],\n",
       "       [ 3.        ,  2.82842712,  2.64575131,  2.44948974,  2.23606798,\n",
       "         2.        ],\n",
       "       [ 3.16227766,  3.        ,  2.82842712,  2.64575131,  2.44948974,\n",
       "         2.23606798],\n",
       "       [ 3.31662479,  3.16227766,  3.        ,  2.82842712,  2.64575131,\n",
       "         2.44948974],\n",
       "       [ 3.46410162,  3.31662479,  3.16227766,  3.        ,  2.82842712,\n",
       "         2.64575131],\n",
       "       [ 3.60555128,  3.46410162,  3.31662479,  3.16227766,  3.        ,\n",
       "         2.82842712],\n",
       "       [ 3.74165739,  3.60555128,  3.46410162,  3.31662479,  3.16227766,\n",
       "         3.        ],\n",
       "       [ 3.87298335,  3.74165739,  3.60555128,  3.46410162,  3.31662479,\n",
       "         3.16227766]])"
      ]
     },
     "execution_count": 9,
     "metadata": {},
     "output_type": "execute_result"
    }
   ],
   "source": [
    "# reward array\n",
    "ddp.R"
   ]
  },
  {
   "cell_type": "code",
   "execution_count": 10,
   "metadata": {
    "collapsed": false
   },
   "outputs": [
    {
     "data": {
      "text/plain": [
       "array([[[ 0.09090909,  0.09090909,  0.09090909, ...,  0.        ,\n",
       "          0.        ,  0.        ],\n",
       "        [ 0.        ,  0.09090909,  0.09090909, ...,  0.        ,\n",
       "          0.        ,  0.        ],\n",
       "        [ 0.        ,  0.        ,  0.09090909, ...,  0.        ,\n",
       "          0.        ,  0.        ],\n",
       "        [ 0.        ,  0.        ,  0.        , ...,  0.09090909,\n",
       "          0.        ,  0.        ],\n",
       "        [ 0.        ,  0.        ,  0.        , ...,  0.09090909,\n",
       "          0.09090909,  0.        ],\n",
       "        [ 0.        ,  0.        ,  0.        , ...,  0.09090909,\n",
       "          0.09090909,  0.09090909]],\n",
       "\n",
       "       [[ 0.09090909,  0.09090909,  0.09090909, ...,  0.        ,\n",
       "          0.        ,  0.        ],\n",
       "        [ 0.        ,  0.09090909,  0.09090909, ...,  0.        ,\n",
       "          0.        ,  0.        ],\n",
       "        [ 0.        ,  0.        ,  0.09090909, ...,  0.        ,\n",
       "          0.        ,  0.        ],\n",
       "        [ 0.        ,  0.        ,  0.        , ...,  0.09090909,\n",
       "          0.        ,  0.        ],\n",
       "        [ 0.        ,  0.        ,  0.        , ...,  0.09090909,\n",
       "          0.09090909,  0.        ],\n",
       "        [ 0.        ,  0.        ,  0.        , ...,  0.09090909,\n",
       "          0.09090909,  0.09090909]],\n",
       "\n",
       "       [[ 0.09090909,  0.09090909,  0.09090909, ...,  0.        ,\n",
       "          0.        ,  0.        ],\n",
       "        [ 0.        ,  0.09090909,  0.09090909, ...,  0.        ,\n",
       "          0.        ,  0.        ],\n",
       "        [ 0.        ,  0.        ,  0.09090909, ...,  0.        ,\n",
       "          0.        ,  0.        ],\n",
       "        [ 0.        ,  0.        ,  0.        , ...,  0.09090909,\n",
       "          0.        ,  0.        ],\n",
       "        [ 0.        ,  0.        ,  0.        , ...,  0.09090909,\n",
       "          0.09090909,  0.        ],\n",
       "        [ 0.        ,  0.        ,  0.        , ...,  0.09090909,\n",
       "          0.09090909,  0.09090909]],\n",
       "\n",
       "       ..., \n",
       "       [[ 0.09090909,  0.09090909,  0.09090909, ...,  0.        ,\n",
       "          0.        ,  0.        ],\n",
       "        [ 0.        ,  0.09090909,  0.09090909, ...,  0.        ,\n",
       "          0.        ,  0.        ],\n",
       "        [ 0.        ,  0.        ,  0.09090909, ...,  0.        ,\n",
       "          0.        ,  0.        ],\n",
       "        [ 0.        ,  0.        ,  0.        , ...,  0.09090909,\n",
       "          0.        ,  0.        ],\n",
       "        [ 0.        ,  0.        ,  0.        , ...,  0.09090909,\n",
       "          0.09090909,  0.        ],\n",
       "        [ 0.        ,  0.        ,  0.        , ...,  0.09090909,\n",
       "          0.09090909,  0.09090909]],\n",
       "\n",
       "       [[ 0.09090909,  0.09090909,  0.09090909, ...,  0.        ,\n",
       "          0.        ,  0.        ],\n",
       "        [ 0.        ,  0.09090909,  0.09090909, ...,  0.        ,\n",
       "          0.        ,  0.        ],\n",
       "        [ 0.        ,  0.        ,  0.09090909, ...,  0.        ,\n",
       "          0.        ,  0.        ],\n",
       "        [ 0.        ,  0.        ,  0.        , ...,  0.09090909,\n",
       "          0.        ,  0.        ],\n",
       "        [ 0.        ,  0.        ,  0.        , ...,  0.09090909,\n",
       "          0.09090909,  0.        ],\n",
       "        [ 0.        ,  0.        ,  0.        , ...,  0.09090909,\n",
       "          0.09090909,  0.09090909]],\n",
       "\n",
       "       [[ 0.09090909,  0.09090909,  0.09090909, ...,  0.        ,\n",
       "          0.        ,  0.        ],\n",
       "        [ 0.        ,  0.09090909,  0.09090909, ...,  0.        ,\n",
       "          0.        ,  0.        ],\n",
       "        [ 0.        ,  0.        ,  0.09090909, ...,  0.        ,\n",
       "          0.        ,  0.        ],\n",
       "        [ 0.        ,  0.        ,  0.        , ...,  0.09090909,\n",
       "          0.        ,  0.        ],\n",
       "        [ 0.        ,  0.        ,  0.        , ...,  0.09090909,\n",
       "          0.09090909,  0.        ],\n",
       "        [ 0.        ,  0.        ,  0.        , ...,  0.09090909,\n",
       "          0.09090909,  0.09090909]]])"
      ]
     },
     "execution_count": 10,
     "metadata": {},
     "output_type": "execute_result"
    }
   ],
   "source": [
    "# transition probability array\n",
    "ddp.Q"
   ]
  },
  {
   "cell_type": "code",
   "execution_count": 11,
   "metadata": {
    "collapsed": false
   },
   "outputs": [
    {
     "data": {
      "text/plain": [
       "0.9"
      ]
     },
     "execution_count": 11,
     "metadata": {},
     "output_type": "execute_result"
    }
   ],
   "source": [
    "# discount factor\n",
    "ddp.beta"
   ]
  },
  {
   "cell_type": "code",
   "execution_count": 12,
   "metadata": {
    "collapsed": false
   },
   "outputs": [
    {
     "data": {
      "text/plain": [
       "16"
      ]
     },
     "execution_count": 12,
     "metadata": {},
     "output_type": "execute_result"
    }
   ],
   "source": [
    "# number of states\n",
    "ddp.num_states"
   ]
  },
  {
   "cell_type": "code",
   "execution_count": 13,
   "metadata": {
    "collapsed": false
   },
   "outputs": [
    {
     "data": {
      "text/plain": [
       "6"
      ]
     },
     "execution_count": 13,
     "metadata": {},
     "output_type": "execute_result"
    }
   ],
   "source": [
    "# number of actions\n",
    "ddp.num_actions"
   ]
  },
  {
   "cell_type": "code",
   "execution_count": 14,
   "metadata": {
    "collapsed": false
   },
   "outputs": [
    {
     "data": {
      "text/plain": [
       "81"
      ]
     },
     "execution_count": 14,
     "metadata": {},
     "output_type": "execute_result"
    }
   ],
   "source": [
    "# number of pairs of actions and states\n",
    "ddp.num_sa_pairs"
   ]
  },
  {
   "cell_type": "code",
   "execution_count": 34,
   "metadata": {
    "collapsed": false
   },
   "outputs": [
    {
     "name": "stdout",
     "output_type": "stream",
     "text": [
      "\n"
     ]
    }
   ],
   "source": [
    "#exact LP\n",
    "#　変数の導入（ここではvalue function）\n",
    "num_state = range(1, ddp.num_states + 1)\n",
    "num_action = range(1, ddp.num_actions + 1)\n",
    "LP = gp.Model()\n",
    "\n",
    "x = {}\n",
    "for i in num_state:\n",
    "    for j in num_action:\n",
    "        x[i,j] = LP.addVar(vtype = \"C\", name = \"x(%s,%s)\" %(i,j))\n",
    "LP.update()"
   ]
  },
  {
   "cell_type": "code",
   "execution_count": 35,
   "metadata": {
    "collapsed": false
   },
   "outputs": [
    {
     "data": {
      "text/plain": [
       "{(1, 1): <gurobi.Var x(1,1)>,\n",
       " (1, 2): <gurobi.Var x(1,2)>,\n",
       " (1, 3): <gurobi.Var x(1,3)>,\n",
       " (1, 4): <gurobi.Var x(1,4)>,\n",
       " (1, 5): <gurobi.Var x(1,5)>,\n",
       " (1, 6): <gurobi.Var x(1,6)>,\n",
       " (2, 1): <gurobi.Var x(2,1)>,\n",
       " (2, 2): <gurobi.Var x(2,2)>,\n",
       " (2, 3): <gurobi.Var x(2,3)>,\n",
       " (2, 4): <gurobi.Var x(2,4)>,\n",
       " (2, 5): <gurobi.Var x(2,5)>,\n",
       " (2, 6): <gurobi.Var x(2,6)>,\n",
       " (3, 1): <gurobi.Var x(3,1)>,\n",
       " (3, 2): <gurobi.Var x(3,2)>,\n",
       " (3, 3): <gurobi.Var x(3,3)>,\n",
       " (3, 4): <gurobi.Var x(3,4)>,\n",
       " (3, 5): <gurobi.Var x(3,5)>,\n",
       " (3, 6): <gurobi.Var x(3,6)>,\n",
       " (4, 1): <gurobi.Var x(4,1)>,\n",
       " (4, 2): <gurobi.Var x(4,2)>,\n",
       " (4, 3): <gurobi.Var x(4,3)>,\n",
       " (4, 4): <gurobi.Var x(4,4)>,\n",
       " (4, 5): <gurobi.Var x(4,5)>,\n",
       " (4, 6): <gurobi.Var x(4,6)>,\n",
       " (5, 1): <gurobi.Var x(5,1)>,\n",
       " (5, 2): <gurobi.Var x(5,2)>,\n",
       " (5, 3): <gurobi.Var x(5,3)>,\n",
       " (5, 4): <gurobi.Var x(5,4)>,\n",
       " (5, 5): <gurobi.Var x(5,5)>,\n",
       " (5, 6): <gurobi.Var x(5,6)>,\n",
       " (6, 1): <gurobi.Var x(6,1)>,\n",
       " (6, 2): <gurobi.Var x(6,2)>,\n",
       " (6, 3): <gurobi.Var x(6,3)>,\n",
       " (6, 4): <gurobi.Var x(6,4)>,\n",
       " (6, 5): <gurobi.Var x(6,5)>,\n",
       " (6, 6): <gurobi.Var x(6,6)>,\n",
       " (7, 1): <gurobi.Var x(7,1)>,\n",
       " (7, 2): <gurobi.Var x(7,2)>,\n",
       " (7, 3): <gurobi.Var x(7,3)>,\n",
       " (7, 4): <gurobi.Var x(7,4)>,\n",
       " (7, 5): <gurobi.Var x(7,5)>,\n",
       " (7, 6): <gurobi.Var x(7,6)>,\n",
       " (8, 1): <gurobi.Var x(8,1)>,\n",
       " (8, 2): <gurobi.Var x(8,2)>,\n",
       " (8, 3): <gurobi.Var x(8,3)>,\n",
       " (8, 4): <gurobi.Var x(8,4)>,\n",
       " (8, 5): <gurobi.Var x(8,5)>,\n",
       " (8, 6): <gurobi.Var x(8,6)>,\n",
       " (9, 1): <gurobi.Var x(9,1)>,\n",
       " (9, 2): <gurobi.Var x(9,2)>,\n",
       " (9, 3): <gurobi.Var x(9,3)>,\n",
       " (9, 4): <gurobi.Var x(9,4)>,\n",
       " (9, 5): <gurobi.Var x(9,5)>,\n",
       " (9, 6): <gurobi.Var x(9,6)>,\n",
       " (10, 1): <gurobi.Var x(10,1)>,\n",
       " (10, 2): <gurobi.Var x(10,2)>,\n",
       " (10, 3): <gurobi.Var x(10,3)>,\n",
       " (10, 4): <gurobi.Var x(10,4)>,\n",
       " (10, 5): <gurobi.Var x(10,5)>,\n",
       " (10, 6): <gurobi.Var x(10,6)>,\n",
       " (11, 1): <gurobi.Var x(11,1)>,\n",
       " (11, 2): <gurobi.Var x(11,2)>,\n",
       " (11, 3): <gurobi.Var x(11,3)>,\n",
       " (11, 4): <gurobi.Var x(11,4)>,\n",
       " (11, 5): <gurobi.Var x(11,5)>,\n",
       " (11, 6): <gurobi.Var x(11,6)>,\n",
       " (12, 1): <gurobi.Var x(12,1)>,\n",
       " (12, 2): <gurobi.Var x(12,2)>,\n",
       " (12, 3): <gurobi.Var x(12,3)>,\n",
       " (12, 4): <gurobi.Var x(12,4)>,\n",
       " (12, 5): <gurobi.Var x(12,5)>,\n",
       " (12, 6): <gurobi.Var x(12,6)>,\n",
       " (13, 1): <gurobi.Var x(13,1)>,\n",
       " (13, 2): <gurobi.Var x(13,2)>,\n",
       " (13, 3): <gurobi.Var x(13,3)>,\n",
       " (13, 4): <gurobi.Var x(13,4)>,\n",
       " (13, 5): <gurobi.Var x(13,5)>,\n",
       " (13, 6): <gurobi.Var x(13,6)>,\n",
       " (14, 1): <gurobi.Var x(14,1)>,\n",
       " (14, 2): <gurobi.Var x(14,2)>,\n",
       " (14, 3): <gurobi.Var x(14,3)>,\n",
       " (14, 4): <gurobi.Var x(14,4)>,\n",
       " (14, 5): <gurobi.Var x(14,5)>,\n",
       " (14, 6): <gurobi.Var x(14,6)>,\n",
       " (15, 1): <gurobi.Var x(15,1)>,\n",
       " (15, 2): <gurobi.Var x(15,2)>,\n",
       " (15, 3): <gurobi.Var x(15,3)>,\n",
       " (15, 4): <gurobi.Var x(15,4)>,\n",
       " (15, 5): <gurobi.Var x(15,5)>,\n",
       " (15, 6): <gurobi.Var x(15,6)>,\n",
       " (16, 1): <gurobi.Var x(16,1)>,\n",
       " (16, 2): <gurobi.Var x(16,2)>,\n",
       " (16, 3): <gurobi.Var x(16,3)>,\n",
       " (16, 4): <gurobi.Var x(16,4)>,\n",
       " (16, 5): <gurobi.Var x(16,5)>,\n",
       " (16, 6): <gurobi.Var x(16,6)>}"
      ]
     },
     "execution_count": 35,
     "metadata": {},
     "output_type": "execute_result"
    }
   ],
   "source": [
    "x"
   ]
  },
  {
   "cell_type": "code",
   "execution_count": 36,
   "metadata": {
    "collapsed": false
   },
   "outputs": [],
   "source": [
    "#　制約の追加\n",
    "for i in num_state:\n",
    "    for j in num_action:\n",
    "        LP.addConstr((x[i,j] - ddp.beta * quicksum(ddp.Q[i-1, j-1, k-1] * quicksum(x[k, l] for l in num_action) for k in num_state)) >= ddp.R[i-1,j-1])\n",
    "\n",
    "LP.update()"
   ]
  },
  {
   "cell_type": "code",
   "execution_count": 37,
   "metadata": {
    "collapsed": false
   },
   "outputs": [],
   "source": [
    "#　目的関数の設定\n",
    "LP.setObjective(quicksum(x[i,j] for i in num_state for j in num_action))\n",
    "LP.update()"
   ]
  },
  {
   "cell_type": "code",
   "execution_count": 43,
   "metadata": {
    "collapsed": false
   },
   "outputs": [
    {
     "name": "stdout",
     "output_type": "stream",
     "text": [
      "Optimize a model with 96 rows, 96 columns and 6366 nonzeros\n",
      "Coefficient statistics:\n",
      "  Matrix range    [8e-02, 1e+00]\n",
      "  Objective range [1e+00, 1e+00]\n",
      "  Bounds range    [0e+00, 0e+00]\n",
      "  RHS range       [1e+00, 1e+100]\n",
      "Presolve removed 15 rows and 15 columns\n",
      "Presolve time: 0.01s\n",
      "Presolved: 81 rows, 81 columns, 4836 nonzeros\n",
      "\n",
      "Iteration    Objective       Primal Inf.    Dual Inf.      Time\n",
      "       0    6.6856050e+03   1.383565e+04   0.000000e+00      0s\n",
      "\n",
      "Solved in 12 iterations and 0.01 seconds\n",
      "Infeasible model\n",
      "Iteration    Objective       Primal Inf.    Dual Inf.      Time\n",
      "       0    0.0000000e+00   1.874222e+02   0.000000e+00      0s\n",
      "\n",
      "IIS computed: 18 constraints and 79 bounds\n",
      "IIS runtime: 0.00 seconds\n",
      " x(1,1) 0.0\n",
      "x(1,2) 0.0\n",
      "x(1,3) 0.0\n",
      "x(1,4) 0.0\n",
      "x(1,5) 0.0\n",
      "x(1,6) 0.0\n",
      "x(2,1) 0.0\n",
      "x(2,2) 0.0\n",
      "x(2,3) 0.0\n",
      "x(2,4) 0.0\n",
      "x(2,5) 0.0\n",
      "x(2,6) 0.0\n",
      "x(3,1) 0.0\n",
      "x(3,2) 0.0\n",
      "x(3,3) 0.0\n",
      "x(3,4) 0.0\n",
      "x(3,5) 0.0\n",
      "x(3,6) 0.0\n",
      "x(4,1) 0.0\n",
      "x(4,2) 0.0\n",
      "x(4,3) 0.0\n",
      "x(4,4) 0.0\n",
      "x(4,5) 0.0\n",
      "x(4,6) 0.0\n",
      "x(5,1) 0.0\n",
      "x(5,2) 0.0\n",
      "x(5,3) 0.0\n",
      "x(5,4) 0.0\n",
      "x(5,5) 0.0\n",
      "x(5,6) 0.0\n",
      "x(6,1) 0.0\n",
      "x(6,2) 0.0\n",
      "x(6,3) 0.0\n",
      "x(6,4) 0.0\n",
      "x(6,5) 0.0\n",
      "x(6,6) 0.0\n",
      "x(7,1) 0.0\n",
      "x(7,2) 0.0\n",
      "x(7,3) 0.0\n",
      "x(7,4) 0.0\n",
      "x(7,5) 0.0\n",
      "x(7,6) 0.0\n",
      "x(8,1) 0.0\n",
      "x(8,2) 0.0\n",
      "x(8,3) 0.0\n",
      "x(8,4) 0.0\n",
      "x(8,5) 0.0\n",
      "x(8,6) 0.0\n",
      "x(9,1) 0.0\n",
      "x(9,2) 0.0\n",
      "x(9,3) 0.0\n",
      "x(9,4) 0.0\n",
      "x(9,5) 0.0\n",
      "x(9,6) 517.735389146\n",
      "x(10,1) 0.0\n",
      "x(10,2) 0.0\n",
      "x(10,3) 0.0\n",
      "x(10,4) 0.0\n",
      "x(10,5) 0.0\n",
      "x(10,6) 518.003338339\n",
      "x(11,1) 0.0\n",
      "x(11,2) 0.0\n",
      "x(11,3) 0.0\n",
      "x(11,4) 0.0\n",
      "x(11,5) 0.0\n",
      "x(11,6) 518.239406316\n",
      "x(12,1) 0.0\n",
      "x(12,2) 0.0\n",
      "x(12,3) 0.0\n",
      "x(12,4) 0.0\n",
      "x(12,5) 0.0\n",
      "x(12,6) 518.452828082\n",
      "x(13,1) 0.0\n",
      "x(13,2) 0.0\n",
      "x(13,3) 0.0\n",
      "x(13,4) 0.0\n",
      "x(13,5) 0.0\n",
      "x(13,6) 518.64908965\n",
      "x(14,1) 130.749216768\n",
      "x(14,2) 0.0\n",
      "x(14,3) 0.0\n",
      "x(14,4) 0.0\n",
      "x(14,5) 401.140440375\n",
      "x(14,6) 518.831765464\n",
      "x(15,1) 130.88532288\n",
      "x(15,2) 173.16808452\n",
      "x(15,3) 0.0\n",
      "x(15,4) 0.0\n",
      "x(15,5) 401.302718035\n",
      "x(15,6) 519.003338339\n",
      "x(16,1) 131.016648839\n",
      "x(16,2) 173.304190632\n",
      "x(16,3) 215.603010037\n",
      "x(16,4) 0.0\n",
      "x(16,5) 401.457065165\n",
      "x(16,6) 519.165615999\n"
     ]
    }
   ],
   "source": [
    "# 求解\n",
    "LP.ModelSense = 1\n",
    "LP.optimize()\n",
    "LP.computeIIS()\n",
    "\n",
    "for v in LP.getVars():\n",
    "    print v.VarName ,v.X"
   ]
  },
  {
   "cell_type": "code",
   "execution_count": 44,
   "metadata": {
    "collapsed": true
   },
   "outputs": [],
   "source": [
    "# 真の値\n",
    "results = ddp.solve(method='policy_iteration')"
   ]
  },
  {
   "cell_type": "code",
   "execution_count": 45,
   "metadata": {
    "collapsed": false
   },
   "outputs": [
    {
     "data": {
      "text/plain": [
       "array([ 19.01740222,  20.01740222,  20.43161578,  20.74945302,\n",
       "        21.04078099,  21.30873018,  21.54479816,  21.76928181,\n",
       "        21.98270358,  22.18824323,  22.3845048 ,  22.57807736,\n",
       "        22.76109127,  22.94376708,  23.11533996,  23.27761762])"
      ]
     },
     "execution_count": 45,
     "metadata": {},
     "output_type": "execute_result"
    }
   ],
   "source": [
    "results.v"
   ]
  },
  {
   "cell_type": "code",
   "execution_count": null,
   "metadata": {
    "collapsed": true
   },
   "outputs": [],
   "source": []
  }
 ],
 "metadata": {
  "kernelspec": {
   "display_name": "Python 2",
   "language": "python",
   "name": "python2"
  },
  "language_info": {
   "codemirror_mode": {
    "name": "ipython",
    "version": 2
   },
   "file_extension": ".py",
   "mimetype": "text/x-python",
   "name": "python",
   "nbconvert_exporter": "python",
   "pygments_lexer": "ipython2",
   "version": "2.7.9"
  }
 },
 "nbformat": 4,
 "nbformat_minor": 0
}
