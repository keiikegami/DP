{
 "cells": [
  {
   "cell_type": "code",
   "execution_count": 32,
   "metadata": {
    "collapsed": false,
    "scrolled": true
   },
   "outputs": [
    {
     "name": "stdout",
     "output_type": "stream",
     "text": [
      "node0, node1 0.04, node8 11.11, node14 72.21\n",
      "\n",
      "node1, node46 1247.25, node6 20.59, node13 64.94\n",
      "\n",
      "node2, node66 54.18, node31 166.80, node45 1561.45\n",
      "\n",
      "node3, node20 133.65, node6 2.06, node11 42.43\n",
      "\n",
      "node4, node75 3706.67, node5 0.73, node7 1.02\n",
      "\n",
      "node5, node45 1382.97, node7 3.33, node11 34.54\n",
      "\n",
      "node6, node31 63.17, node9 0.72, node10 13.10\n",
      "\n",
      "node7, node50 478.14, node9 3.15, node10 5.85\n",
      "\n",
      "node8, node69 577.91, node11 7.45, node12 3.18\n",
      "\n",
      "node9, node70 2454.28, node13 4.42, node20 16.53\n",
      "\n",
      "node10, node89 5352.79, node12 1.87, node16 25.16\n",
      "\n",
      "node11, node94 4961.32, node18 37.55, node20 65.08\n",
      "\n",
      "node12, node84 3914.62, node24 34.32, node28 170.04\n",
      "\n",
      "node13, node60 2135.95, node38 236.33, node40 475.33\n",
      "\n",
      "node14, node67 1878.96, node16 2.70, node24 38.65\n",
      "\n",
      "node15, node91 3597.11, node17 1.01, node18 2.57\n",
      "\n",
      "node16, node36 392.92, node19 3.49, node38 278.71\n",
      "\n",
      "node17, node76 783.29, node22 24.78, node23 26.45\n",
      "\n",
      "node18, node91 3363.17, node23 16.23, node28 55.84\n",
      "\n",
      "node19, node26 20.09, node20 0.24, node28 70.54\n",
      "\n",
      "node20, node98 3523.33, node24 9.81, node33 145.80\n",
      "\n",
      "node21, node56 626.04, node28 36.65, node31 27.06\n",
      "\n",
      "node22, node72 1447.22, node39 136.32, node40 124.22\n",
      "\n",
      "node23, node52 336.73, node26 2.66, node33 22.37\n",
      "\n",
      "node24, node66 875.19, node26 1.80, node28 14.25\n",
      "\n",
      "node25, node70 1343.63, node32 36.58, node35 45.55\n",
      "\n",
      "node26, node47 135.78, node27 0.01, node42 122.00\n",
      "\n",
      "node27, node65 480.55, node35 48.10, node43 246.24\n",
      "\n",
      "node28, node82 2538.18, node34 21.79, node36 15.52\n",
      "\n",
      "node29, node64 635.52, node32 4.22, node33 12.61\n",
      "\n",
      "node30, node98 2616.03, node33 5.61, node35 13.95\n",
      "\n",
      "node31, node98 3350.98, node36 20.44, node44 125.88\n",
      "\n",
      "node32, node97 2613.92, node34 3.33, node35 1.46\n",
      "\n",
      "node33, node81 1854.73, node41 3.23, node47 111.54\n",
      "\n",
      "node34, node73 1075.38, node42 51.52, node48 129.45\n",
      "\n",
      "node35, node52 17.57, node41 2.09, node50 78.81\n",
      "\n",
      "node36, node71 1171.60, node54 101.08, node57 260.46\n",
      "\n",
      "node37, node75 269.97, node38 0.36, node46 80.49\n",
      "\n",
      "node38, node93 2767.85, node40 1.79, node42 8.78\n",
      "\n",
      "node39, node50 39.88, node40 0.95, node41 1.34\n",
      "\n",
      "node40, node75 548.68, node47 28.57, node54 53.46\n",
      "\n",
      "node41, node53 18.23, node46 0.28, node54 162.24\n",
      "\n",
      "node42, node59 141.86, node47 10.08, node72 437.49\n",
      "\n",
      "node43, node98 2984.83, node54 95.06, node60 116.23\n",
      "\n",
      "node44, node91 807.39, node46 1.56, node47 2.14\n",
      "\n",
      "node45, node58 79.93, node47 3.68, node49 15.51\n",
      "\n",
      "node46, node52 22.68, node57 27.50, node67 65.48\n",
      "\n",
      "node47, node50 2.82, node56 49.31, node61 172.64\n",
      "\n",
      "node48, node99 2564.12, node59 34.52, node60 66.44\n",
      "\n",
      "node49, node78 53.79, node50 0.51, node56 10.89\n",
      "\n",
      "node50, node85 251.76, node53 1.38, node55 20.10\n",
      "\n",
      "node51, node98 2110.67, node59 23.67, node60 73.79\n",
      "\n",
      "node52, node94 1471.80, node64 102.41, node66 123.03\n",
      "\n",
      "node53, node72 22.85, node56 4.33, node67 88.35\n",
      "\n",
      "node54, node88 967.59, node59 24.30, node73 238.61\n",
      "\n",
      "node55, node84 86.09, node57 2.13, node64 60.80\n",
      "\n",
      "node56, node76 197.03, node57 0.02, node61 11.06\n",
      "\n",
      "node57, node86 701.09, node58 0.46, node60 7.01\n",
      "\n",
      "node58, node83 556.70, node64 29.85, node65 34.32\n",
      "\n",
      "node59, node90 820.66, node60 0.72, node71 0.67\n",
      "\n",
      "node60, node76 48.03, node65 4.76, node67 1.63\n",
      "\n",
      "node61, node98 1057.59, node63 0.95, node64 4.88\n",
      "\n",
      "node62, node91 132.23, node64 2.94, node76 38.43\n",
      "\n",
      "node63, node66 4.43, node72 70.08, node75 56.34\n",
      "\n",
      "node64, node80 47.73, node65 0.30, node76 11.98\n",
      "\n",
      "node65, node94 594.93, node66 0.64, node73 33.23\n",
      "\n",
      "node66, node98 395.63, node68 2.66, node73 37.53\n",
      "\n",
      "node67, node82 153.53, node68 0.09, node70 0.98\n",
      "\n",
      "node68, node94 232.10, node70 3.35, node71 1.66\n",
      "\n",
      "node69, node99 247.80, node70 0.06, node73 8.99\n",
      "\n",
      "node70, node76 27.18, node72 1.50, node73 8.37\n",
      "\n",
      "node71, node89 104.50, node74 8.86, node91 284.64\n",
      "\n",
      "node72, node76 15.32, node84 102.77, node92 133.06\n",
      "\n",
      "node73, node83 52.22, node76 1.40, node90 243.00\n",
      "\n",
      "node74, node81 1.07, node76 0.52, node78 8.08\n",
      "\n",
      "node75, node92 68.53, node76 0.81, node77 1.19\n",
      "\n",
      "node76, node85 13.18, node77 0.45, node78 2.36\n",
      "\n",
      "node77, node80 8.94, node78 0.98, node86 64.32\n",
      "\n",
      "node78, node98 355.90, node81 2.59\n",
      "\n",
      "node79, node81 0.09, node85 1.45, node91 22.35\n",
      "\n",
      "node80, node92 121.87, node88 28.78, node98 264.34\n",
      "\n",
      "node81, node94 99.78, node89 39.52, node92 99.89\n",
      "\n",
      "node82, node91 47.44, node88 28.05, node93 11.99\n",
      "\n",
      "node83, node94 114.95, node86 8.75, node88 5.78\n",
      "\n",
      "node84, node89 19.14, node94 30.41, node98 121.05\n",
      "\n",
      "node85, node97 94.51, node87 2.66, node89 4.90\n",
      "\n",
      "node86, node97 85.09\n",
      "\n",
      "node87, node88 0.21, node91 11.14, node92 21.23\n",
      "\n",
      "node88, node93 1.31, node91 6.83, node98 6.12\n",
      "\n",
      "node89, node97 36.97, node99 82.12\n",
      "\n",
      "node90, node96 23.53, node94 10.47, node99 50.99\n",
      "\n",
      "node91, node97 22.17\n",
      "\n",
      "node92, node96 10.83, node97 11.24, node99 34.68\n",
      "\n",
      "node93, node94 0.19, node97 6.71, node99 32.77\n",
      "\n",
      "node94, node98 5.91, node96 2.03\n",
      "\n",
      "node95, node98 6.17, node99 0.27\n",
      "\n",
      "node96, node98 3.32, node97 0.43, node99 5.87\n",
      "\n",
      "node97, node98 0.30\n",
      "\n",
      "node98, node99 0.33\n",
      "\n",
      "node99, \n",
      "\n"
     ]
    }
   ],
   "source": [
    "#open data\n",
    "graph = open(\"graph1.txt\")\n",
    "for row in graph:\n",
    "    print row"
   ]
  },
  {
   "cell_type": "code",
   "execution_count": 70,
   "metadata": {
    "collapsed": false
   },
   "outputs": [
    {
     "name": "stdout",
     "output_type": "stream",
     "text": [
      "[('node98', 6.17), ('node99', 0.27)]\n"
     ]
    }
   ],
   "source": [
    "# transform data\n",
    "\n",
    "graph = open(\"graph1.txt\")\n",
    "\n",
    "graph_dic = {}\n",
    "for row in graph:\n",
    "    elements = row.split(',')  \n",
    "    node = elements.pop(0).strip()\n",
    "    graph_dic[node] = []\n",
    "    \n",
    "    if node != \"node99\":\n",
    "        for element in elements:\n",
    "            destination, cost = element.split()\n",
    "            graph_dic[node].append((destination.strip() ,float(cost)))\n",
    "\n",
    "graph.close()\n",
    "print graph_dic[\"node95\"]"
   ]
  },
  {
   "cell_type": "code",
   "execution_count": 68,
   "metadata": {
    "collapsed": false
   },
   "outputs": [],
   "source": [
    "# first estimation\n",
    "# start point : all nodes have same large value\n",
    "graph = open(\"graph1.txt\")\n",
    "J ={}\n",
    "M = 1e10\n",
    "for node in graph_dic:\n",
    "    J[node] = M\n",
    "J[\"node99\"] = 0"
   ]
  },
  {
   "cell_type": "code",
   "execution_count": 69,
   "metadata": {
    "collapsed": false
   },
   "outputs": [
    {
     "name": "stdout",
     "output_type": "stream",
     "text": [
      "{'node77': 10000000000.98, 'node76': 10000000000.45, 'node75': 10000000000.81, 'node74': 10000000000.52, 'node73': 10000000001.4, 'node72': 10000000015.32, 'node71': 10000000008.86, 'node70': 10000000001.5, 'node79': 10000000000.09, 'node78': 10000000002.59, 'node88': 10000000001.31, 'node89': 82.12, 'node82': 10000000011.99, 'node83': 10000000005.78, 'node80': 10000000028.78, 'node81': 10000000039.52, 'node86': 10000000085.09, 'node87': 10000000000.21, 'node84': 10000000019.14, 'node85': 10000000002.66, 'node9': 10000000004.42, 'node8': 10000000003.18, 'node1': 10000000020.59, 'node0': 10000000000.04, 'node3': 10000000002.06, 'node2': 10000000054.18, 'node5': 10000000003.33, 'node4': 10000000000.73, 'node7': 10000000003.15, 'node6': 10000000000.72, 'node11': 10000000037.55, 'node10': 10000000001.87, 'node13': 10000000236.33, 'node12': 10000000034.32, 'node15': 10000000001.01, 'node14': 10000000002.7, 'node17': 10000000024.78, 'node16': 10000000003.49, 'node19': 10000000000.24, 'node18': 10000000016.23, 'node99': 0, 'node98': 0.33, 'node91': 10000000022.17, 'node90': 50.99, 'node93': 32.77, 'node92': 34.68, 'node95': 0.27, 'node94': 10000000002.03, 'node97': 10000000000.3, 'node96': 5.87, 'node28': 10000000015.52, 'node29': 10000000004.22, 'node24': 10000000001.8, 'node25': 10000000036.58, 'node26': 10000000000.01, 'node27': 10000000048.1, 'node20': 10000000009.81, 'node21': 10000000027.06, 'node22': 10000000124.22, 'node23': 10000000002.66, 'node39': 10000000000.95, 'node38': 10000000001.79, 'node33': 10000000003.23, 'node32': 10000000001.46, 'node31': 10000000020.44, 'node30': 10000000005.61, 'node37': 10000000000.36, 'node36': 10000000101.08, 'node35': 10000000002.09, 'node34': 10000000051.52, 'node48': 2564.12, 'node49': 10000000000.51, 'node46': 10000000022.68, 'node47': 10000000002.82, 'node44': 10000000001.56, 'node45': 10000000003.68, 'node42': 10000000010.08, 'node43': 10000000095.06, 'node40': 10000000028.57, 'node41': 10000000000.28, 'node59': 10000000000.67, 'node58': 10000000029.85, 'node55': 10000000002.13, 'node54': 10000000024.3, 'node57': 10000000000.46, 'node56': 10000000000.02, 'node51': 10000000023.67, 'node50': 10000000001.38, 'node53': 10000000004.33, 'node52': 10000000102.41, 'node68': 10000000001.66, 'node69': 247.8, 'node60': 10000000001.63, 'node61': 10000000000.95, 'node62': 10000000002.94, 'node63': 10000000004.43, 'node64': 10000000000.3, 'node65': 10000000000.64, 'node66': 10000000002.66, 'node67': 10000000000.09}\n"
     ]
    }
   ],
   "source": [
    "# first update J\n",
    "next_J = {}\n",
    "for node in graph_dic:\n",
    "    \n",
    "    if node == \"node99\":\n",
    "        next_J[node] = 0\n",
    "    \n",
    "    else:\n",
    "        next_J[node] = min(cost + J[dest] for dest, cost in graph_dic[node])\n",
    "\n",
    "print next_J"
   ]
  },
  {
   "cell_type": "code",
   "execution_count": 49,
   "metadata": {
    "collapsed": true
   },
   "outputs": [],
   "source": [
    "# make update function\n",
    "def update_J(J, graph):\n",
    "    next_J = {}\n",
    "    for node in graph:\n",
    "    \n",
    "        if node == \"node99\":\n",
    "            next_J[node] = 0\n",
    "    \n",
    "        else:\n",
    "            next_J[node] = min(cost + J[dest] for dest, cost in graph[node])\n",
    "\n",
    "    return next_J"
   ]
  },
  {
   "cell_type": "code",
   "execution_count": 50,
   "metadata": {
    "collapsed": true
   },
   "outputs": [],
   "source": [
    "# make reading data function\n",
    "def read_data(filename):\n",
    "    \n",
    "    infile = open(filename)\n",
    "\n",
    "    graph = {}\n",
    "    for row in infile:\n",
    "        elements = row.split(',')  \n",
    "        node = elements.pop(0).strip()\n",
    "        graph[node] = []\n",
    "    \n",
    "        if node != \"node99\":\n",
    "            for element in elements:\n",
    "                destination, cost = element.split()\n",
    "                graph[node].append((destination.strip() ,float(cost)))\n",
    "\n",
    "    infile.close()\n",
    "    return graph"
   ]
  },
  {
   "cell_type": "code",
   "execution_count": 51,
   "metadata": {
    "collapsed": true
   },
   "outputs": [],
   "source": [
    "J ={}\n",
    "M = 1e10\n",
    "for node in graph_dic:\n",
    "    J[node] = M\n",
    "J[\"node99\"] = 0"
   ]
  },
  {
   "cell_type": "code",
   "execution_count": 53,
   "metadata": {
    "collapsed": false
   },
   "outputs": [
    {
     "name": "stdout",
     "output_type": "stream",
     "text": [
      "{'node77': 42.31, 'node76': 20.64, 'node75': 21.45, 'node74': 21.16, 'node73': 22.04, 'node72': 35.96, 'node71': 30.02, 'node70': 30.409999999999997, 'node79': 8.91, 'node78': 79.71000000000001, 'node88': 4.59, 'node89': 37.6, 'node82': 15.27, 'node83': 10.370000000000001, 'node80': 33.370000000000005, 'node81': 77.12, 'node86': 85.72, 'node87': 4.8, 'node84': 33.5, 'node85': 7.46, 'node9': 140.95000000000002, 'node8': 149.44, 'node1': 162.26000000000002, 'node0': 160.55, 'node3': 143.73000000000002, 'node2': 88.52000000000001, 'node5': 147.43000000000004, 'node4': 145.12000000000003, 'node7': 144.10000000000002, 'node6': 141.67000000000002, 'node11': 141.99, 'node10': 150.8, 'node13': 303.77, 'node12': 148.93, 'node15': 107.01, 'node14': 130.85, 'node17': 114.66000000000001, 'node16': 128.15, 'node19': 124.66000000000001, 'node18': 104.44000000000001, 'node99': 0, 'node98': 0.33, 'node91': 22.8, 'node90': 13.56, 'node93': 3.28, 'node92': 11.870000000000001, 'node95': 0.27, 'node94': 3.09, 'node97': 0.63, 'node96': 1.06, 'node28': 131.97, 'node29': 70.38, 'node24': 114.61000000000001, 'node25': 102.74, 'node26': 112.81000000000002, 'node27': 112.80000000000001, 'node20': 124.42000000000002, 'node21': 168.62, 'node22': 200.26999999999998, 'node23': 88.21000000000001, 'node39': 63.95, 'node38': 67.44, 'node33': 65.84, 'node32': 66.16, 'node31': 176.51, 'node30': 71.45, 'node37': 67.8, 'node36': 156.07, 'node35': 64.7, 'node34': 110.18, 'node48': 65.21000000000001, 'node49': 46.269999999999996, 'node46': 67.53, 'node47': 48.58, 'node44': 50.72, 'node45': 52.26, 'node42': 58.66, 'node43': 149.25, 'node40': 77.15, 'node41': 62.61, 'node59': 30.69, 'node58': 62.470000000000006, 'node55': 42.16, 'node54': 54.99, 'node57': 40.029999999999994, 'node56': 40.05, 'node51': 54.36, 'node50': 45.76, 'node53': 44.379999999999995, 'node52': 135.03, 'node68': 31.68, 'node69': 30.469999999999995, 'node60': 33.019999999999996, 'node61': 37.50000000000001, 'node62': 35.56, 'node63': 38.77, 'node64': 32.620000000000005, 'node65': 34.980000000000004, 'node66': 34.34, 'node67': 31.389999999999997}\n"
     ]
    }
   ],
   "source": [
    "graph = read_data(\"graph1.txt\")\n",
    "while 1:\n",
    "    next_J = update_J(J, graph)\n",
    "    if J == next_J:\n",
    "        break\n",
    "    else:\n",
    "        J = next_J\n",
    "print J"
   ]
  },
  {
   "cell_type": "code",
   "execution_count": 54,
   "metadata": {
    "collapsed": true
   },
   "outputs": [],
   "source": [
    "#make path function\n",
    "def best_path(J, graph):\n",
    "    sum_cost = 0\n",
    "    current = \"node0\"\n",
    "    \n",
    "    while current != \"node99\":\n",
    "        print current\n",
    "        N = 1e100\n",
    "        for dest, cost in graph[current]:\n",
    "            path_cost = cost+J[dest]\n",
    "            if path_cost < N:\n",
    "                N = path_cost\n",
    "                minimum_cost = cost\n",
    "                minimum_dest = dest\n",
    "        current = minimum_dest\n",
    "        sum_cost += minimum_cost\n",
    "        \n",
    "    print \"node99\\n\"\n",
    "    print \"minimum cost = \", sum_cost"
   ]
  },
  {
   "cell_type": "code",
   "execution_count": 55,
   "metadata": {
    "collapsed": false
   },
   "outputs": [
    {
     "name": "stdout",
     "output_type": "stream",
     "text": [
      "node0\n",
      "node8\n",
      "node11\n",
      "node18\n",
      "node23\n",
      "node33\n",
      "node41\n",
      "node53\n",
      "node56\n",
      "node57\n",
      "node60\n",
      "node67\n",
      "node70\n",
      "node73\n",
      "node76\n",
      "node85\n",
      "node87\n",
      "node88\n",
      "node93\n",
      "node94\n",
      "node96\n",
      "node97\n",
      "node98\n",
      "node99\n",
      "\n",
      "minimum cost =  160.55\n"
     ]
    }
   ],
   "source": [
    "best_path(J, graph)"
   ]
  },
  {
   "cell_type": "code",
   "execution_count": 63,
   "metadata": {
    "collapsed": false
   },
   "outputs": [
    {
     "name": "stdout",
     "output_type": "stream",
     "text": [
      "10000000001.0\n",
      "10000000003.6\n",
      "165.49\n",
      "44.17\n",
      "44.17\n",
      "44.17\n",
      "44.17\n",
      "42.31\n",
      "42.31\n",
      "42.31\n",
      "42.31\n",
      "42.31\n",
      "42.31\n",
      "42.31\n",
      "42.31\n",
      "42.31\n",
      "42.31\n",
      "42.31\n",
      "42.31\n",
      "42.31\n",
      "42.31\n",
      "42.31\n",
      "42.31\n",
      "42.31\n",
      "42.31\n"
     ]
    }
   ],
   "source": [
    "# check decreasing node77\n",
    "\n",
    "n ={}\n",
    "M = 1e10\n",
    "for node in graph_dic:\n",
    "    n[node] = M\n",
    "n[\"node99\"] = 0\n",
    "\n",
    "graph = read_data(\"graph1.txt\")\n",
    "while 1:\n",
    "    next_J = update_J(n, graph)\n",
    "    if  n == next_J:\n",
    "        break\n",
    "    else:\n",
    "        n = next_J\n",
    "    \n",
    "    print n[\"node77\"]"
   ]
  },
  {
   "cell_type": "code",
   "execution_count": null,
   "metadata": {
    "collapsed": true
   },
   "outputs": [],
   "source": [
    "#node95などnode99に隣接してるnodeから順にvalueが減少していく。"
   ]
  }
 ],
 "metadata": {
  "kernelspec": {
   "display_name": "Python 2",
   "language": "python",
   "name": "python2"
  },
  "language_info": {
   "codemirror_mode": {
    "name": "ipython",
    "version": 2
   },
   "file_extension": ".py",
   "mimetype": "text/x-python",
   "name": "python",
   "nbconvert_exporter": "python",
   "pygments_lexer": "ipython2",
   "version": "2.7.9"
  }
 },
 "nbformat": 4,
 "nbformat_minor": 0
}
